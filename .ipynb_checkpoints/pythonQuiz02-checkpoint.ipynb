{
 "cells": [
  {
   "cell_type": "code",
   "execution_count": 39,
   "metadata": {},
   "outputs": [
    {
     "ename": "SyntaxError",
     "evalue": "invalid syntax (<ipython-input-39-fec152929310>, line 37)",
     "output_type": "error",
     "traceback": [
      "\u001b[0;36m  File \u001b[0;32m\"<ipython-input-39-fec152929310>\"\u001b[0;36m, line \u001b[0;32m37\u001b[0m\n\u001b[0;31m    print(findKeyValueSet(keys,values))\u001b[0m\n\u001b[0m        ^\u001b[0m\n\u001b[0;31mSyntaxError\u001b[0m\u001b[0;31m:\u001b[0m invalid syntax\n"
     ]
    }
   ],
   "source": [
    "data = \"\"\"key1, key2, key3, key4, \n",
    "value1-1, value1-2, value1-3, value1-4, \n",
    "value2-1, value2-2, value2-3, value2-4, \n",
    "value3-1, value3-2, value3-3, value3-4,\n",
    "\"\"\"\n",
    "data = data.split(',');\n",
    "print(data);\n",
    "key = 'key'\n",
    "value = 'value'\n",
    "keys = list(filter(lambda x: key in x ,data))\n",
    "values = list(filter(lambda x: value in x ,data))\n",
    "\n",
    "print(keys)\n",
    "print(values)\n",
    "def sliceKeyNumber(keyString):\n",
    "    return keyString[3:]\n",
    "def sliceValueNumber(valueString):\n",
    "    sliceValue = valueString.split('-')\n",
    "    return sliceValue[1]\n",
    "\n",
    "print(sliceValueNumber('value3-1'))\n",
    "print(sliceKeyNumber('key1'))\n",
    "            \n",
    "def isSamenumber(a, b):\n",
    "    return a==b\n",
    "      \n",
    "def makeSet(isSame,x,y):\n",
    "      if isSame:\n",
    "          return {x:y}\n",
    "        \n",
    "      \n",
    "       \n",
    "def findKeyValueSet(keys,values):\n",
    "    sets = []\n",
    "    list(map( lambda x: list(map(lambda y: makeSet(isSamenumber(sliceKeyNumber(x), sliceValueNumber(y)),x,y),values),keys ))\n",
    "\n",
    "print(findKeyValueSet(keys,values))"
   ]
  },
  {
   "cell_type": "code",
   "execution_count": 58,
   "metadata": {},
   "outputs": [
    {
     "name": "stdout",
     "output_type": "stream",
     "text": [
      "['key1', ' key2', ' key3', ' key4', ' \\nvalue1-1', ' value1-2', ' value1-3', ' value1-4', ' \\nvalue2-1', ' value2-2', ' value2-3', ' value2-4', ' \\nvalue3-1', ' value3-2', ' value3-3', ' value3-4', '\\n']\n",
      "['key1', ' key2', ' key3', ' key4']\n",
      "[' \\nvalue1-1', ' value1-2', ' value1-3', ' value1-4', ' \\nvalue2-1', ' value2-2', ' value2-3', ' value2-4', ' \\nvalue3-1', ' value3-2', ' value3-3', ' value3-4']\n",
      "1\n",
      "2\n",
      "True\n",
      "{'x': 'y'}\n",
      "[[{'key1', ' \\nvalue1-1'}, {'key1', ' \\nvalue2-1'}, {'key1', ' \\nvalue3-1'}], [{' key2', ' value1-2'}, {' key2', ' value2-2'}, {' value3-2', ' key2'}], [{' key3', ' value1-3'}, {' key3', ' value2-3'}, {' key3', ' value3-3'}], [{' value1-4', ' key4'}, {' value2-4', ' key4'}, {' value3-4', ' key4'}]]\n"
     ]
    }
   ],
   "source": [
    "data = \"\"\"key1, key2, key3, key4, \n",
    "value1-1, value1-2, value1-3, value1-4, \n",
    "value2-1, value2-2, value2-3, value2-4, \n",
    "value3-1, value3-2, value3-3, value3-4,\n",
    "\"\"\"\n",
    "data = data.split(',');\n",
    "print(data);\n",
    "key = 'key'\n",
    "value = 'value'\n",
    "keys = list(filter(lambda x: key in x ,data))\n",
    "values = list(filter(lambda x: value in x ,data))\n",
    "\n",
    "print(keys)\n",
    "print(values)\n",
    "def sliceKeyNumber(keyString):\n",
    "    keyIdx = keyString.index('key')\n",
    "    return keyString[keyIdx+3:]\n",
    "def sliceValueNumber(valueString):\n",
    "    sliceValue = valueString.split('-')\n",
    "    return sliceValue[1]\n",
    "\n",
    "print(sliceValueNumber('value3-1'))\n",
    "print(sliceKeyNumber(' key2'))\n",
    "\n",
    "def isSamenumber(a, b):\n",
    "    return a==b\n",
    "def makeSet(isSame,x,y):\n",
    "      if isSame:\n",
    "          return {x:y}\n",
    "print(isSamenumber(1,1))\n",
    "print(makeSet(isSamenumber(1,1),'x','y'))\n",
    "\n",
    "\n",
    "def filterKeyValueNumber(x,lists):\n",
    "    sameNumberValueList = list(filter(lambda y: sliceKeyNumber(x)==sliceValueNumber(y), lists))\n",
    "    sets = list(map(lambda z: {x, z}, sameNumberValueList))\n",
    "    return sets\n",
    "\n",
    "setKeyValue = list(map(lambda x: filterKeyValueNumber(x,values), keys))\n",
    "print(setKeyValue)\n"
   ]
  },
  {
   "cell_type": "code",
   "execution_count": null,
   "metadata": {},
   "outputs": [],
   "source": [
    "\n"
   ]
  }
 ],
 "metadata": {
  "kernelspec": {
   "display_name": "Python 3",
   "language": "python",
   "name": "python3"
  },
  "language_info": {
   "codemirror_mode": {
    "name": "ipython",
    "version": 3
   },
   "file_extension": ".py",
   "mimetype": "text/x-python",
   "name": "python",
   "nbconvert_exporter": "python",
   "pygments_lexer": "ipython3",
   "version": "3.6.4"
  }
 },
 "nbformat": 4,
 "nbformat_minor": 2
}
