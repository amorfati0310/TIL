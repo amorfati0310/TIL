{
 "cells": [
  {
   "cell_type": "markdown",
   "metadata": {},
   "source": [
    "두번째 과제입니다.\n",
    "\n",
    "csv <\n",
    "두번째 과재 입니다\n",
    "csv <-> dictionary변환\n",
    "\n",
    "\bkey1, key2, key3, key,4\n",
    "value1-1, value1-2, value1-3, value1-4\n",
    "value2-1, value2-2, value2-3, value2-4\n",
    "value3-1, value3-2, value3-3, value3-4\n",
    "\n",
    "\n",
    "위와 같은 형태의 csv텍스트를\n",
    "\n",
    "[{ ‘key1’: ‘value1-1’, ‘key2’: ‘value1-2’, ‘key3’: ‘value1-3’, ‘key4’: ‘value1-4’},\n",
    "{ ‘key1’: ‘value2-1’, ‘key2’: ‘value2-2’, ‘key3’: ‘value2-3’, ‘key4’: ‘value2-4’},\n",
    "{ ‘key1’: ‘value3-1’, ‘key2’: ‘value3-2’, ‘key3’: ‘value3-3’, ‘key4’: ‘value3-4’}]\n",
    "\n",
    "형태의 dictionary(혹은 dictionary의 리스트)로 변환시키는 코드를 완성시키세요.\n",
    "또 반대로 dictionary(혹은 그들의 리스트)를 받아서 \u0002csv텍스트 형태로 변환시키는 코드를 완성시키세요\n",
    "\n",
    "key의 길이와 values들은 예시보다 더 많거나 작은 경우에도 작동해야합니다."
   ]
  },
  {
   "cell_type": "code",
   "execution_count": 29,
   "metadata": {
    "collapsed": false
   },
   "outputs": [],
   "source": [
    "csv = \"\"\"\n",
    "name, phone, email, age\n",
    "sol, 01012341234, solsol123@gmail.com, 29\n",
    "gildong, 01034535456, honggildong@naver.com, 30\n",
    "suzy, 010123455655, suzy@gmail.com, 25\n",
    "\"\"\"\n",
    "\n",
    "# strip, lstrip, rstrip 끝에 있는 문자를(지정한) 제거해준다\n",
    "# split(c) 지정한 문자 c로 잘라서 리스트로 바꿔준다"
   ]
  },
  {
   "cell_type": "code",
   "execution_count": 30,
   "metadata": {
    "collapsed": false
   },
   "outputs": [],
   "source": [
    "csv = csv.strip(\"\\n\") "
   ]
  },
  {
   "cell_type": "code",
   "execution_count": 32,
   "metadata": {
    "collapsed": false
   },
   "outputs": [],
   "source": [
    "csv_list = csv.split(\"\\n\")"
   ]
  },
  {
   "cell_type": "code",
   "execution_count": 85,
   "metadata": {
    "collapsed": false
   },
   "outputs": [
    {
     "name": "stdout",
     "output_type": "stream",
     "text": [
      "3 1\n"
     ]
    }
   ],
   "source": [
    "a = 1\n",
    "b = 3\n",
    "\n",
    "a, b = b, a\n",
    "print(a, b)"
   ]
  },
  {
   "cell_type": "code",
   "execution_count": 96,
   "metadata": {
    "collapsed": false
   },
   "outputs": [
    {
     "data": {
      "text/plain": [
       "['name, phone, email, age',\n",
       " 'sol, 01012341234, solsol123@gmail.com, 29',\n",
       " 'gildong, 01034535456, honggildong@naver.com, 30',\n",
       " 'suzy, 010123455655, suzy@gmail.com, 25']"
      ]
     },
     "execution_count": 96,
     "metadata": {},
     "output_type": "execute_result"
    }
   ],
   "source": [
    "keys, items = csv_list[0:1], csv_list[1:]\n",
    "csv_list"
   ]
  },
  {
   "cell_type": "code",
   "execution_count": 97,
   "metadata": {
    "collapsed": false,
    "scrolled": true
   },
   "outputs": [
    {
     "data": {
      "text/plain": [
       "['name, phone, email, age']"
      ]
     },
     "execution_count": 97,
     "metadata": {},
     "output_type": "execute_result"
    }
   ],
   "source": [
    "keys"
   ]
  },
  {
   "cell_type": "code",
   "execution_count": 94,
   "metadata": {
    "collapsed": false
   },
   "outputs": [
    {
     "data": {
      "text/plain": [
       "['sol, 01012341234, solsol123@gmail.com, 29',\n",
       " 'gildong, 01034535456, honggildong@naver.com, 30',\n",
       " 'suzy, 010123455655, suzy@gmail.com, 25']"
      ]
     },
     "execution_count": 94,
     "metadata": {},
     "output_type": "execute_result"
    }
   ],
   "source": [
    "items"
   ]
  },
  {
   "cell_type": "code",
   "execution_count": 43,
   "metadata": {
    "collapsed": true
   },
   "outputs": [],
   "source": [
    "keys = keys[0].split(\",\")"
   ]
  },
  {
   "cell_type": "code",
   "execution_count": 44,
   "metadata": {
    "collapsed": false
   },
   "outputs": [
    {
     "data": {
      "text/plain": [
       "['name', ' phone', ' email', ' age']"
      ]
     },
     "execution_count": 44,
     "metadata": {},
     "output_type": "execute_result"
    }
   ],
   "source": [
    "keys"
   ]
  },
  {
   "cell_type": "code",
   "execution_count": 51,
   "metadata": {
    "collapsed": false
   },
   "outputs": [],
   "source": [
    "temp_items = []\n",
    "for item in items:\n",
    "    temp_items.append(item.replace(\" \", '').split(\",\"))\n",
    "items = temp_items"
   ]
  },
  {
   "cell_type": "code",
   "execution_count": 55,
   "metadata": {
    "collapsed": false
   },
   "outputs": [
    {
     "data": {
      "text/plain": [
       "[['sol', '01012341234', 'solsol123@gmail.com', '29'],\n",
       " ['gildong', '01034535456', 'honggildong@naver.com', '30'],\n",
       " ['suzy', '010123455655', 'suzy@gmail.com', '25']]"
      ]
     },
     "execution_count": 55,
     "metadata": {},
     "output_type": "execute_result"
    }
   ],
   "source": [
    "items"
   ]
  },
  {
   "cell_type": "code",
   "execution_count": 65,
   "metadata": {
    "collapsed": false
   },
   "outputs": [],
   "source": [
    "result = []\n",
    "for item in items:\n",
    "    info = dict()\n",
    "    for i in range(len(item)):\n",
    "        info[keys[i]] = item[i]\n",
    "    result.append(info)"
   ]
  },
  {
   "cell_type": "code",
   "execution_count": null,
   "metadata": {
    "collapsed": true
   },
   "outputs": [],
   "source": []
  },
  {
   "cell_type": "code",
   "execution_count": 66,
   "metadata": {
    "collapsed": false
   },
   "outputs": [
    {
     "data": {
      "text/plain": [
       "[{' age': '29',\n",
       "  ' email': 'solsol123@gmail.com',\n",
       "  ' phone': '01012341234',\n",
       "  'name': 'sol'},\n",
       " {' age': '30',\n",
       "  ' email': 'honggildong@naver.com',\n",
       "  ' phone': '01034535456',\n",
       "  'name': 'gildong'},\n",
       " {' age': '25',\n",
       "  ' email': 'suzy@gmail.com',\n",
       "  ' phone': '010123455655',\n",
       "  'name': 'suzy'}]"
      ]
     },
     "execution_count": 66,
     "metadata": {},
     "output_type": "execute_result"
    }
   ],
   "source": [
    "result"
   ]
  },
  {
   "cell_type": "code",
   "execution_count": 79,
   "metadata": {
    "collapsed": false
   },
   "outputs": [
    {
     "name": "stdout",
     "output_type": "stream",
     "text": [
      "{'name': 'sol', ' email': 'solsol123@gmail.com', ' age': '29', ' phone': '01012341234'}\n",
      "name\n",
      " email\n",
      " age\n",
      " phone\n"
     ]
    }
   ],
   "source": [
    "print(result[0])\n",
    "for i in result[0]:\n",
    "    print(i)"
   ]
  },
  {
   "cell_type": "code",
   "execution_count": null,
   "metadata": {
    "collapsed": true
   },
   "outputs": [],
   "source": []
  }
 ],
 "metadata": {
  "kernelspec": {
   "display_name": "Python 3",
   "language": "python",
   "name": "python3"
  },
  "language_info": {
   "codemirror_mode": {
    "name": "ipython",
    "version": 3
   },
   "file_extension": ".py",
   "mimetype": "text/x-python",
   "name": "python",
   "nbconvert_exporter": "python",
   "pygments_lexer": "ipython3",
   "version": "3.5.2"
  }
 },
 "nbformat": 4,
 "nbformat_minor": 1
}
