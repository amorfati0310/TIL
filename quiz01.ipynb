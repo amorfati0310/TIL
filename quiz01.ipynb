{
 "cells": [
  {
   "cell_type": "code",
   "execution_count": 13,
   "metadata": {},
   "outputs": [],
   "source": [
    "def isPalindrome(text):\n",
    "    lowertext = text.lower()\n",
    "    withoutWhiteSpace = \"\".join(lowertext.split())\n",
    "    reverse = withoutWhiteSpace[::-1]\n",
    "    print(withoutWhiteSpace)\n",
    "    print(reverse)\n",
    "    if reverse == withoutWhiteSpace:\n",
    "        print('I am Palindrome')\n",
    "    else:\n",
    "        print('I am not a Palindrome')"
   ]
  },
  {
   "cell_type": "code",
   "execution_count": 5,
   "metadata": {},
   "outputs": [
    {
     "name": "stdout",
     "output_type": "stream",
     "text": [
      "I am not a Palindrome\n"
     ]
    }
   ],
   "source": [
    "isPalindrome('text')"
   ]
  },
  {
   "cell_type": "code",
   "execution_count": 6,
   "metadata": {},
   "outputs": [
    {
     "name": "stdout",
     "output_type": "stream",
     "text": [
      "I am Palindrome\n"
     ]
    }
   ],
   "source": [
    "isPalindrome('Anna')"
   ]
  },
  {
   "cell_type": "code",
   "execution_count": 14,
   "metadata": {},
   "outputs": [
    {
     "name": "stdout",
     "output_type": "stream",
     "text": [
      "nolemon,nomelon\n",
      "nolemon,nomelon\n",
      "I am Palindrome\n"
     ]
    }
   ],
   "source": [
    "isPalindrome('No lemon, no melon')"
   ]
  },
  {
   "cell_type": "code",
   "execution_count": 78,
   "metadata": {},
   "outputs": [],
   "source": [
    "def rotateRight90degree(matrix33):\n",
    "    row = len(matrix33)\n",
    "    col = len(matrix33[0])\n",
    "    print(col)\n",
    "    rotateMatrix = [[0]*3 for i in range(3)]\n",
    "    print(rotateMatrix)\n",
    "    for i in range(row):\n",
    "        print(i)\n",
    "        for j in range(col):\n",
    "            rotateMatrix[j][row-i-1] = matrix33[i][j]\n",
    "    print(rotateMatrix)"
   ]
  },
  {
   "cell_type": "code",
   "execution_count": 79,
   "metadata": {},
   "outputs": [
    {
     "name": "stdout",
     "output_type": "stream",
     "text": [
      "3\n",
      "[[0, 0, 0], [0, 0, 0], [0, 0, 0]]\n",
      "0\n",
      "1\n",
      "2\n",
      "[[7, 4, 1], [8, 5, 2], [9, 6, 3]]\n"
     ]
    }
   ],
   "source": [
    "rotateRight90degree([[1,2,3],[4,5,6],[7,8,9]])"
   ]
  },
  {
   "cell_type": "code",
   "execution_count": 80,
   "metadata": {},
   "outputs": [
    {
     "name": "stdout",
     "output_type": "stream",
     "text": [
      "3\n",
      "[[0, 0, 0], [0, 0, 0], [0, 0, 0]]\n",
      "0\n",
      "1\n",
      "2\n",
      "[[9, 8, 7], [6, 5, 4], [3, 2, 1]]\n"
     ]
    }
   ],
   "source": [
    "rotateRight90degree([[7,4,1],[8,5,2],[9,6,3]])"
   ]
  },
  {
   "cell_type": "code",
   "execution_count": 17,
   "metadata": {},
   "outputs": [
    {
     "name": "stdout",
     "output_type": "stream",
     "text": [
      "tibboh a devil ereht dnuorg eht ni eloh eht nI\n",
      "\n"
     ]
    }
   ],
   "source": [
    "s = 'In the hole in the ground there lived a hobbit'\n",
    "first = s.find('h')\n",
    "last = s.rfind('h')\n",
    "print(s[::-1])\n",
    "print(s[first+1:last:-1])\n"
   ]
  },
  {
   "cell_type": "code",
   "execution_count": null,
   "metadata": {},
   "outputs": [],
   "source": []
  }
 ],
 "metadata": {
  "kernelspec": {
   "display_name": "Python 3",
   "language": "python",
   "name": "python3"
  },
  "language_info": {
   "codemirror_mode": {
    "name": "ipython",
    "version": 3
   },
   "file_extension": ".py",
   "mimetype": "text/x-python",
   "name": "python",
   "nbconvert_exporter": "python",
   "pygments_lexer": "ipython3",
   "version": "3.6.4"
  }
 },
 "nbformat": 4,
 "nbformat_minor": 2
}
